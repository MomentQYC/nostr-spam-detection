{
 "cells": [
  {
   "cell_type": "code",
   "execution_count": null,
   "id": "58959aa7",
   "metadata": {},
   "outputs": [],
   "source": [
    "import numpy as np  \n",
    "import pandas as pd\n",
    "from pathlib import Path\n",
    "from fastai.text.all import *"
   ]
  },
  {
   "cell_type": "code",
   "execution_count": null,
   "id": "14e43b6c",
   "metadata": {},
   "outputs": [],
   "source": [
    "### Load training data"
   ]
  },
  {
   "cell_type": "code",
   "execution_count": null,
   "id": "d895ff24",
   "metadata": {},
   "outputs": [],
   "source": [
    "df_train = pd.read_csv('spam_202302101016_training.csv');\n",
    "df_train.head()\n",
    "\n",
    "df_test = pd.read_csv('spam_202302101016_testing.csv');\n",
    "\n",
    "# We can train using the whole dataset and using valid_pct to generate validation data instead\n",
    "df = pd.concat([df_train, df_test])"
   ]
  },
  {
   "cell_type": "code",
   "execution_count": null,
   "id": "d601aa00",
   "metadata": {},
   "outputs": [],
   "source": [
    "### Part 1: Training for next word as our base language model"
   ]
  },
  {
   "cell_type": "code",
   "execution_count": null,
   "id": "d39ce0d7",
   "metadata": {},
   "outputs": [],
   "source": [
    "dls_lm = TextDataLoaders.from_df(df, \n",
    "                                 text_col = 'text', \n",
    "                                 label_col = 'label', \n",
    "                                 valid_pct = 0.10, \n",
    "                                 bs = 64, \n",
    "                                 is_lm = True)"
   ]
  },
  {
   "cell_type": "code",
   "execution_count": null,
   "id": "d6c95dd3",
   "metadata": {},
   "outputs": [],
   "source": [
    "learn = language_model_learner(dls_lm, AWD_LSTM, drop_mult = 0.3, metrics=accuracy)"
   ]
  },
  {
   "cell_type": "code",
   "execution_count": null,
   "id": "024ad863",
   "metadata": {},
   "outputs": [],
   "source": [
    "# Estimate the best learning rate to prevent over-fitting\n",
    "learn.lr_find()"
   ]
  },
  {
   "cell_type": "code",
   "execution_count": null,
   "id": "de451e1e",
   "metadata": {},
   "outputs": [],
   "source": [
    "### Note: This part can be really slow - you can stop after 2 epochs instead of 5\n",
    "learn.fit_one_cycle(5, 2e-3)\n"
   ]
  },
  {
   "cell_type": "code",
   "execution_count": null,
   "id": "13775ee2",
   "metadata": {},
   "outputs": [],
   "source": [
    "learn.save_encoder('language_model')"
   ]
  },
  {
   "cell_type": "code",
   "execution_count": null,
   "id": "bc147c0d",
   "metadata": {},
   "outputs": [],
   "source": [
    "### Part 2: Training for categorisation (spam or ham)"
   ]
  },
  {
   "cell_type": "code",
   "execution_count": null,
   "id": "701dddef",
   "metadata": {},
   "outputs": [],
   "source": [
    "dls_clas = TextDataLoaders.from_df(df,\n",
    "                        valid_pct = 0.10, \n",
    "                        text_col = 'text',\n",
    "                        label_col = 'label', \n",
    "                        bs = 64, \n",
    "                        text_vocab = dls_lm.vocab)"
   ]
  },
  {
   "cell_type": "code",
   "execution_count": null,
   "id": "a50b1adb",
   "metadata": {},
   "outputs": [],
   "source": [
    "learn = text_classifier_learner(dls_clas, AWD_LSTM, drop_mult = 0.5, metrics = accuracy)"
   ]
  },
  {
   "cell_type": "code",
   "execution_count": null,
   "id": "0c4c8e70",
   "metadata": {},
   "outputs": [],
   "source": [
    "# Load our saved encoder into the new categorisation model\n",
    "learn = learn.load_encoder('language_model')"
   ]
  },
  {
   "cell_type": "code",
   "execution_count": null,
   "id": "be6b2bc3",
   "metadata": {},
   "outputs": [],
   "source": [
    "# Estimate the best learning rate to prevent over-fitting\n",
    "learn.lr_find()"
   ]
  },
  {
   "cell_type": "code",
   "execution_count": null,
   "id": "b5020b5b",
   "metadata": {},
   "outputs": [],
   "source": [
    "### Note: This part can be slow\n",
    "learn.fit_one_cycle(2, 2e-3)"
   ]
  },
  {
   "cell_type": "code",
   "execution_count": null,
   "id": "ca7f3e66",
   "metadata": {},
   "outputs": [],
   "source": [
    "### Note: This part can be slow (more training)\n",
    "learn.freeze_to(-2)\n",
    "learn.fit_one_cycle(3, 3e-3)"
   ]
  },
  {
   "cell_type": "code",
   "execution_count": null,
   "id": "0ed27262",
   "metadata": {},
   "outputs": [],
   "source": [
    "learn.freeze()"
   ]
  },
  {
   "cell_type": "code",
   "execution_count": null,
   "id": "67ace804",
   "metadata": {},
   "outputs": [],
   "source": [
    "### Exporting the model"
   ]
  },
  {
   "cell_type": "code",
   "execution_count": null,
   "id": "6cd4f3dc",
   "metadata": {},
   "outputs": [],
   "source": [
    "learn.export('models/awd_lstm_fully_trained_export')"
   ]
  },
  {
   "cell_type": "code",
   "execution_count": null,
   "id": "5db930fd",
   "metadata": {},
   "outputs": [],
   "source": [
    "### Loading the model"
   ]
  },
  {
   "cell_type": "code",
   "execution_count": null,
   "id": "0380a08c",
   "metadata": {},
   "outputs": [],
   "source": [
    "learn = load_learner('models/awd_lstm_fully_trained_export')"
   ]
  },
  {
   "cell_type": "code",
   "execution_count": null,
   "id": "bf76145e",
   "metadata": {
    "scrolled": true
   },
   "outputs": [],
   "source": [
    "learn.predict('It was snow day in Tokyo. I\\'m always at outside during work so that was awful. Do you like snow? Speaking of snow, I remembered \"informer\" though...🤔')"
   ]
  },
  {
   "cell_type": "code",
   "execution_count": null,
   "id": "8d225d8e",
   "metadata": {},
   "outputs": [],
   "source": [
    "learn.predict('打扰大家了，打个广告！S9是一个可帮助社区代币销毁的平台 平台资金雄厚，持有国际牌照！ 注意事项：目前只开放海外用户，请开启境外VPN访问！ 官方网址: https://s9.com TG群: https://t.me/S9Coin_cn https://s9app.net/ZcTzak.png')"
   ]
  },
  {
   "cell_type": "code",
   "execution_count": null,
   "id": "e50d8194",
   "metadata": {},
   "outputs": [],
   "source": [
    "### Single predictions"
   ]
  },
  {
   "cell_type": "code",
   "execution_count": null,
   "id": "9f3ea45b",
   "metadata": {},
   "outputs": [],
   "source": [
    "df_test = pd.read_csv('spam_202302101016_testing.csv')"
   ]
  },
  {
   "cell_type": "code",
   "execution_count": null,
   "id": "10c6a2d2",
   "metadata": {},
   "outputs": [],
   "source": [
    "### Batch processing\n",
    "dl_test   = learn.dls.test_dl(df_test)\n",
    "preds     = learn.get_preds(dl=dl_test)"
   ]
  },
  {
   "cell_type": "code",
   "execution_count": null,
   "id": "cdcb474e",
   "metadata": {},
   "outputs": [],
   "source": [
    "preds"
   ]
  },
  {
   "cell_type": "code",
   "execution_count": null,
   "id": "82a78bb0",
   "metadata": {},
   "outputs": [],
   "source": []
  }
 ],
 "metadata": {
  "kernelspec": {
   "display_name": "Python 3 (ipykernel)",
   "language": "python",
   "name": "python3"
  },
  "language_info": {
   "codemirror_mode": {
    "name": "ipython",
    "version": 3
   },
   "file_extension": ".py",
   "mimetype": "text/x-python",
   "name": "python",
   "nbconvert_exporter": "python",
   "pygments_lexer": "ipython3",
   "version": "3.10.8"
  }
 },
 "nbformat": 4,
 "nbformat_minor": 5
}
