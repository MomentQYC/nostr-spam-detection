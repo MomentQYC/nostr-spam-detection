{
 "cells": [
  {
   "cell_type": "code",
   "execution_count": 1,
   "id": "58959aa7",
   "metadata": {},
   "outputs": [],
   "source": [
    "import numpy as np  \n",
    "import pandas as pd\n",
    "from pathlib import Path\n",
    "from fastai.text.all import *"
   ]
  },
  {
   "cell_type": "code",
   "execution_count": 2,
   "id": "d895ff24",
   "metadata": {},
   "outputs": [
    {
     "data": {
      "text/html": [
       "<div>\n",
       "<style scoped>\n",
       "    .dataframe tbody tr th:only-of-type {\n",
       "        vertical-align: middle;\n",
       "    }\n",
       "\n",
       "    .dataframe tbody tr th {\n",
       "        vertical-align: top;\n",
       "    }\n",
       "\n",
       "    .dataframe thead th {\n",
       "        text-align: right;\n",
       "    }\n",
       "</style>\n",
       "<table border=\"1\" class=\"dataframe\">\n",
       "  <thead>\n",
       "    <tr style=\"text-align: right;\">\n",
       "      <th></th>\n",
       "      <th>label</th>\n",
       "      <th>text</th>\n",
       "    </tr>\n",
       "  </thead>\n",
       "  <tbody>\n",
       "    <tr>\n",
       "      <th>0</th>\n",
       "      <td>ham</td>\n",
       "      <td>gosta mais de \"o anti\" é?\\n</td>\n",
       "    </tr>\n",
       "    <tr>\n",
       "      <th>1</th>\n",
       "      <td>ham</td>\n",
       "      <td>Yo! What are y’all working on?</td>\n",
       "    </tr>\n",
       "    <tr>\n",
       "      <th>2</th>\n",
       "      <td>ham</td>\n",
       "      <td>We are Damus volunteers. You can choose to follow me and check my previous pictures and texts to get the answers you want.\\nThe node you want\\nthese are the most important relays:\\nDamus:\\nwss://relay.damus.io\\nwss://eden.nostr.land\\nwss://relay.snort.social\\nwss://nostr.orangepill.dev\\nwss://nos.lol\\nwss://relay.current.fyi\\nwss://brb.io\\n\\nAmethyst:\\nwss://nostr.bitcoiner.social\\nwss://relay.nostr.bg\\nwss://brb.io\\nwss://relay.snort.social\\nwss://nostr.rocks\\nwss://relay.damus.io\\nwss://nostr.fmt.wiz.biz\\nwss://nostr.oxtr.dev\\nwss://eden.nostr.land\\nwss://nostr-2.zebedee.cloud\\nwss://nos...</td>\n",
       "    </tr>\n",
       "    <tr>\n",
       "      <th>3</th>\n",
       "      <td>ham</td>\n",
       "      <td>I assume it was regulatory issues. This is the \"easier\" route? And here we are using Lightning...</td>\n",
       "    </tr>\n",
       "    <tr>\n",
       "      <th>4</th>\n",
       "      <td>ham</td>\n",
       "      <td>proof of #nostrchain\\n\\nhttps://nostr.build/i/4976.png</td>\n",
       "    </tr>\n",
       "  </tbody>\n",
       "</table>\n",
       "</div>"
      ],
      "text/plain": [
       "  label  \\\n",
       "0   ham   \n",
       "1   ham   \n",
       "2   ham   \n",
       "3   ham   \n",
       "4   ham   \n",
       "\n",
       "                                                                                                                                                                                                                                                                                                                                                                                                                                                                                                                                                                                                                      text  \n",
       "0                                                                                                                                                                                                                                                                                                                                                                                                                                                                                                                                                                                              gosta mais de \"o anti\" é?\\n  \n",
       "1                                                                                                                                                                                                                                                                                                                                                                                                                                                                                                                                                                                           Yo! What are y’all working on?  \n",
       "2  We are Damus volunteers. You can choose to follow me and check my previous pictures and texts to get the answers you want.\\nThe node you want\\nthese are the most important relays:\\nDamus:\\nwss://relay.damus.io\\nwss://eden.nostr.land\\nwss://relay.snort.social\\nwss://nostr.orangepill.dev\\nwss://nos.lol\\nwss://relay.current.fyi\\nwss://brb.io\\n\\nAmethyst:\\nwss://nostr.bitcoiner.social\\nwss://relay.nostr.bg\\nwss://brb.io\\nwss://relay.snort.social\\nwss://nostr.rocks\\nwss://relay.damus.io\\nwss://nostr.fmt.wiz.biz\\nwss://nostr.oxtr.dev\\nwss://eden.nostr.land\\nwss://nostr-2.zebedee.cloud\\nwss://nos...  \n",
       "3                                                                                                                                                                                                                                                                                                                                                                                                                                                                                                                        I assume it was regulatory issues. This is the \"easier\" route? And here we are using Lightning...  \n",
       "4                                                                                                                                                                                                                                                                                                                                                                                                                                                                                                                                                                   proof of #nostrchain\\n\\nhttps://nostr.build/i/4976.png  "
      ]
     },
     "execution_count": 2,
     "metadata": {},
     "output_type": "execute_result"
    }
   ],
   "source": [
    "### Load data\n",
    "df = pd.read_csv('labelled_nostr_events_20230225000.csv').dropna();\n",
    "df.head()"
   ]
  },
  {
   "cell_type": "code",
   "execution_count": 3,
   "id": "d601aa00",
   "metadata": {},
   "outputs": [],
   "source": [
    "### Part 1: Training for next word as our base language model"
   ]
  },
  {
   "cell_type": "code",
   "execution_count": 4,
   "id": "d39ce0d7",
   "metadata": {},
   "outputs": [
    {
     "data": {
      "text/html": [
       "\n",
       "<style>\n",
       "    /* Turns off some styling */\n",
       "    progress {\n",
       "        /* gets rid of default border in Firefox and Opera. */\n",
       "        border: none;\n",
       "        /* Needs to be in here for Safari polyfill so background images work as expected. */\n",
       "        background-size: auto;\n",
       "    }\n",
       "    progress:not([value]), progress:not([value])::-webkit-progress-bar {\n",
       "        background: repeating-linear-gradient(45deg, #7e7e7e, #7e7e7e 10px, #5c5c5c 10px, #5c5c5c 20px);\n",
       "    }\n",
       "    .progress-bar-interrupted, .progress-bar-interrupted::-webkit-progress-bar {\n",
       "        background: #F44336;\n",
       "    }\n",
       "</style>\n"
      ],
      "text/plain": [
       "<IPython.core.display.HTML object>"
      ]
     },
     "metadata": {},
     "output_type": "display_data"
    },
    {
     "data": {
      "text/html": [],
      "text/plain": [
       "<IPython.core.display.HTML object>"
      ]
     },
     "metadata": {},
     "output_type": "display_data"
    }
   ],
   "source": [
    "dls_lm = TextDataLoaders.from_df(df, \n",
    "                                 text_col = 'text', \n",
    "                                 label_col = 'label', \n",
    "                                 valid_pct = 0.10, \n",
    "                                 bs = 64, \n",
    "                                 is_lm = True)"
   ]
  },
  {
   "cell_type": "code",
   "execution_count": 5,
   "id": "d6c95dd3",
   "metadata": {},
   "outputs": [],
   "source": [
    "learn = language_model_learner(dls_lm, AWD_LSTM, drop_mult = 0.3, metrics=accuracy)"
   ]
  },
  {
   "cell_type": "code",
   "execution_count": 6,
   "id": "024ad863",
   "metadata": {},
   "outputs": [
    {
     "data": {
      "text/html": [
       "\n",
       "<style>\n",
       "    /* Turns off some styling */\n",
       "    progress {\n",
       "        /* gets rid of default border in Firefox and Opera. */\n",
       "        border: none;\n",
       "        /* Needs to be in here for Safari polyfill so background images work as expected. */\n",
       "        background-size: auto;\n",
       "    }\n",
       "    progress:not([value]), progress:not([value])::-webkit-progress-bar {\n",
       "        background: repeating-linear-gradient(45deg, #7e7e7e, #7e7e7e 10px, #5c5c5c 10px, #5c5c5c 20px);\n",
       "    }\n",
       "    .progress-bar-interrupted, .progress-bar-interrupted::-webkit-progress-bar {\n",
       "        background: #F44336;\n",
       "    }\n",
       "</style>\n"
      ],
      "text/plain": [
       "<IPython.core.display.HTML object>"
      ]
     },
     "metadata": {},
     "output_type": "display_data"
    },
    {
     "data": {
      "text/html": [],
      "text/plain": [
       "<IPython.core.display.HTML object>"
      ]
     },
     "metadata": {},
     "output_type": "display_data"
    },
    {
     "data": {
      "text/plain": [
       "SuggestedLRs(valley=0.007585775572806597)"
      ]
     },
     "execution_count": 6,
     "metadata": {},
     "output_type": "execute_result"
    },
    {
     "data": {
      "image/png": "[encoded data removed]",
      "text/plain": [
       "<Figure size 640x480 with 1 Axes>"
      ]
     },
     "metadata": {},
     "output_type": "display_data"
    }
   ],
   "source": [
    "# Estimate the best learning rate to prevent over-fitting\n",
    "learn.lr_find()"
   ]
  },
  {
   "cell_type": "code",
   "execution_count": null,
   "id": "de451e1e",
   "metadata": {},
   "outputs": [],
   "source": [
    "### Note: This part can be really slow - you can stop after 2 epochs instead of 5\n",
    "learn.fit_one_cycle(5, 2e-3)\n"
   ]
  },
  {
   "cell_type": "code",
   "execution_count": null,
   "id": "13775ee2",
   "metadata": {},
   "outputs": [],
   "source": [
    "learn.save_encoder('language_model')"
   ]
  },
  {
   "cell_type": "code",
   "execution_count": null,
   "id": "bc147c0d",
   "metadata": {},
   "outputs": [],
   "source": [
    "### Part 2: Training for categorisation (spam or ham)"
   ]
  },
  {
   "cell_type": "code",
   "execution_count": null,
   "id": "701dddef",
   "metadata": {},
   "outputs": [],
   "source": [
    "dls_clas = TextDataLoaders.from_df(df,\n",
    "                        valid_pct = 0.10, \n",
    "                        text_col = 'text',\n",
    "                        label_col = 'label', \n",
    "                        bs = 64, \n",
    "                        text_vocab = dls_lm.vocab)"
   ]
  },
  {
   "cell_type": "code",
   "execution_count": null,
   "id": "a50b1adb",
   "metadata": {},
   "outputs": [],
   "source": [
    "learn = text_classifier_learner(dls_clas, AWD_LSTM, drop_mult = 0.5, metrics = accuracy)"
   ]
  },
  {
   "cell_type": "code",
   "execution_count": null,
   "id": "0c4c8e70",
   "metadata": {},
   "outputs": [],
   "source": [
    "# Load our saved encoder into the new categorisation model\n",
    "learn = learn.load_encoder('language_model')"
   ]
  },
  {
   "cell_type": "code",
   "execution_count": null,
   "id": "be6b2bc3",
   "metadata": {},
   "outputs": [],
   "source": [
    "# Estimate the best learning rate to prevent over-fitting\n",
    "learn.lr_find()"
   ]
  },
  {
   "cell_type": "code",
   "execution_count": null,
   "id": "b5020b5b",
   "metadata": {},
   "outputs": [],
   "source": [
    "### Note: This part can be slow\n",
    "learn.fit_one_cycle(2, 2e-3)"
   ]
  },
  {
   "cell_type": "code",
   "execution_count": null,
   "id": "ca7f3e66",
   "metadata": {},
   "outputs": [],
   "source": [
    "### Note: This part can be slow (more training)\n",
    "learn.freeze_to(-2)\n",
    "learn.fit_one_cycle(3, 3e-3)"
   ]
  },
  {
   "cell_type": "code",
   "execution_count": null,
   "id": "0ed27262",
   "metadata": {},
   "outputs": [],
   "source": [
    "learn.freeze()"
   ]
  },
  {
   "cell_type": "code",
   "execution_count": null,
   "id": "67ace804",
   "metadata": {},
   "outputs": [],
   "source": [
    "### Exporting the model"
   ]
  },
  {
   "cell_type": "code",
   "execution_count": null,
   "id": "6cd4f3dc",
   "metadata": {},
   "outputs": [],
   "source": [
    "learn.export('models/awd_lstm_fully_trained_export')"
   ]
  },
  {
   "cell_type": "code",
   "execution_count": null,
   "id": "5db930fd",
   "metadata": {},
   "outputs": [],
   "source": [
    "### Loading the model"
   ]
  },
  {
   "cell_type": "code",
   "execution_count": null,
   "id": "0380a08c",
   "metadata": {},
   "outputs": [],
   "source": [
    "learn = load_learner('models/awd_lstm_fully_trained_export')"
   ]
  },
  {
   "cell_type": "code",
   "execution_count": null,
   "id": "bf76145e",
   "metadata": {
    "scrolled": true
   },
   "outputs": [],
   "source": [
    "learn.predict('It was snow day in Tokyo. I\\'m always at outside during work so that was awful. Do you like snow? Speaking of snow, I remembered \"informer\" though...🤔')"
   ]
  },
  {
   "cell_type": "code",
   "execution_count": null,
   "id": "8d225d8e",
   "metadata": {},
   "outputs": [],
   "source": [
    "learn.predict('打扰大家了，打个广告！S9是一个可帮助社区代币销毁的平台 平台资金雄厚，持有国际牌照！ 注意事项：目前只开放海外用户，请开启境外VPN访问！ 官方网址: https://s9.com TG群: https://t.me/S9Coin_cn https://s9app.net/ZcTzak.png')"
   ]
  },
  {
   "cell_type": "code",
   "execution_count": null,
   "id": "e50d8194",
   "metadata": {},
   "outputs": [],
   "source": [
    "### Single predictions"
   ]
  },
  {
   "cell_type": "code",
   "execution_count": null,
   "id": "9f3ea45b",
   "metadata": {},
   "outputs": [],
   "source": [
    "df_test = pd.read_csv('spam_202302101016_testing.csv')"
   ]
  },
  {
   "cell_type": "code",
   "execution_count": null,
   "id": "10c6a2d2",
   "metadata": {},
   "outputs": [],
   "source": [
    "### Batch processing\n",
    "dl_test   = learn.dls.test_dl(df_test)\n",
    "preds     = learn.get_preds(dl=dl_test)"
   ]
  },
  {
   "cell_type": "code",
   "execution_count": null,
   "id": "cdcb474e",
   "metadata": {},
   "outputs": [],
   "source": [
    "preds"
   ]
  },
  {
   "cell_type": "code",
   "execution_count": null,
   "id": "82a78bb0",
   "metadata": {},
   "outputs": [],
   "source": []
  }
 ],
 "metadata": {
  "kernelspec": {
   "display_name": "Python 3 (ipykernel)",
   "language": "python",
   "name": "python3"
  },
  "language_info": {
   "codemirror_mode": {
    "name": "ipython",
    "version": 3
   },
   "file_extension": ".py",
   "mimetype": "text/x-python",
   "name": "python",
   "nbconvert_exporter": "python",
   "pygments_lexer": "ipython3",
   "version": "3.10.8"
  }
 },
 "nbformat": 4,
 "nbformat_minor": 5
}
